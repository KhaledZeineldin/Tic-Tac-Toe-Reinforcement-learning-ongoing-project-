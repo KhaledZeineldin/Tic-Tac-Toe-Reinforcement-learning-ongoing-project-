{
 "cells": [
  {
   "cell_type": "code",
   "execution_count": 1,
   "id": "e56ed724",
   "metadata": {},
   "outputs": [],
   "source": [
    "import numpy as np\n",
    "import pandas as pd\n",
    "import math\n",
    "from IPython.display import Markdown, display"
   ]
  },
  {
   "cell_type": "code",
   "execution_count": 2,
   "id": "1a6f07f8",
   "metadata": {},
   "outputs": [],
   "source": [
    "columns = ['A', 'B', 'C']\n",
    "index = [1, 2, 3]\n",
    "\n",
    "boxes = []\n",
    "# Creating labels for the boxes\n",
    "for i in index:\n",
    "    for c in columns:\n",
    "        boxes.append(c+str(i))\n",
    "\n",
    "empty_boxes = boxes\n",
    "\n",
    "boxes = np.array(boxes)\n",
    "boxes = np.resize(boxes, (3,3))\n",
    "\n",
    "board = pd.DataFrame(boxes, index=index, columns=columns)"
   ]
  },
  {
   "cell_type": "code",
   "execution_count": 3,
   "id": "8310d084",
   "metadata": {},
   "outputs": [],
   "source": [
    "#Game Functions\n",
    "def check_valid(move, game_over):\n",
    "    '''ensuring user input values exist on the gameboard'''\n",
    "    if move.upper() in empty_boxes and move.upper() in board.values:\n",
    "        separator()\n",
    "        print('Updating Game Board...')   \n",
    "        separator()\n",
    "    elif move.upper() in empty_boxes and move.upper() not in board.values:\n",
    "        print('Oops! box is already taken')\n",
    "        move = input('Please select a different box number\\n')\n",
    "        if move.upper() not in board.values:\n",
    "            separator()\n",
    "            print('Invalid Move... Exiting')\n",
    "            separator()\n",
    "            move = False\n",
    "    elif move == \"exit\":\n",
    "        game_over == True\n",
    "    else:\n",
    "        separator()\n",
    "        print('Invalid entry!')\n",
    "        separator()\n",
    "        move = input('Please select a valid box number\\n')\n",
    "        if move.upper() not in board.values:\n",
    "            separator()\n",
    "            print('Invalid Move... Exiting')\n",
    "            separator()\n",
    "            move = False\n",
    "    return move, game_over\n",
    "\n",
    "def update_board(move):\n",
    "    '''Updating the game board with the current player move'''\n",
    "    board.values[board.values == move.upper()] = p.upper()\n",
    "    display(style(board))\n",
    "    return move\n",
    "\n",
    "def horizontal(game_over):\n",
    "    '''checking for a horizontal win scenario'''\n",
    "    for row in board.values:\n",
    "        if row[0] == row[1] == row[2]:\n",
    "            game_over = True\n",
    "            break\n",
    "    return game_over\n",
    "\n",
    "def vertical(game_over):\n",
    "    '''checking for a vertical win scenario'''\n",
    "    for column in ['A', 'B', 'C']:\n",
    "        if board[column].values[0] == board[column].values[1] == board[column].values[2]:\n",
    "            game_over = True\n",
    "            break\n",
    "    return game_over\n",
    "\n",
    "def diagonal(game_over):\n",
    "    '''checking for a diagonal win scenario'''\n",
    "    diag = [\n",
    "        board['A'].values[0] == board['B'].values[1] == board['C'].values[2],\n",
    "        board['C'].values[0] == board['B'].values[1] == board['A'].values[2]\n",
    "            ]\n",
    "    for d in diag:\n",
    "        if d:\n",
    "            game_over = True\n",
    "            break            \n",
    "    return game_over\n",
    "\n",
    "def separator():\n",
    "    print('*****************')"
   ]
  },
  {
   "cell_type": "code",
   "execution_count": 4,
   "id": "a1e86463",
   "metadata": {},
   "outputs": [],
   "source": [
    "#Game Board styling functions\n",
    "def background_X(move):\n",
    "    '''setting up red backround for player X'''\n",
    "    is_X = move == 'X'\n",
    "    return ['background-color: red' if v else '' for v in is_X]\n",
    "\n",
    "def background_O(move):\n",
    "    '''setting up blue backround for player O'''\n",
    "    is_O = move == 'O'\n",
    "    return ['background-color: blue' if v else '' for v in is_O]\n",
    "\n",
    "def style(df):\n",
    "    '''setting up game board colours'''\n",
    "    style = df.style.set_properties(**{'background-color': 'black',\n",
    "                                                'color': 'white',\n",
    "                                                'border-color': 'black'})\n",
    " \n",
    "    style = style.apply(background_X)\n",
    "    style = style.apply(background_O)\n",
    "    return style"
   ]
  },
  {
   "cell_type": "code",
   "execution_count": 5,
   "id": "a2926825",
   "metadata": {},
   "outputs": [
    {
     "data": {
      "text/html": [
       "<style  type=\"text/css\" >\n",
       "#T_1fe00_row0_col0,#T_1fe00_row0_col1,#T_1fe00_row0_col2,#T_1fe00_row1_col0,#T_1fe00_row1_col1,#T_1fe00_row1_col2,#T_1fe00_row2_col0,#T_1fe00_row2_col1,#T_1fe00_row2_col2{\n",
       "            background-color:  black;\n",
       "            color:  white;\n",
       "            border-color:  black;\n",
       "        }</style><table id=\"T_1fe00_\" ><thead>    <tr>        <th class=\"blank level0\" ></th>        <th class=\"col_heading level0 col0\" >A</th>        <th class=\"col_heading level0 col1\" >B</th>        <th class=\"col_heading level0 col2\" >C</th>    </tr></thead><tbody>\n",
       "                <tr>\n",
       "                        <th id=\"T_1fe00_level0_row0\" class=\"row_heading level0 row0\" >1</th>\n",
       "                        <td id=\"T_1fe00_row0_col0\" class=\"data row0 col0\" >A1</td>\n",
       "                        <td id=\"T_1fe00_row0_col1\" class=\"data row0 col1\" >B1</td>\n",
       "                        <td id=\"T_1fe00_row0_col2\" class=\"data row0 col2\" >C1</td>\n",
       "            </tr>\n",
       "            <tr>\n",
       "                        <th id=\"T_1fe00_level0_row1\" class=\"row_heading level0 row1\" >2</th>\n",
       "                        <td id=\"T_1fe00_row1_col0\" class=\"data row1 col0\" >A2</td>\n",
       "                        <td id=\"T_1fe00_row1_col1\" class=\"data row1 col1\" >B2</td>\n",
       "                        <td id=\"T_1fe00_row1_col2\" class=\"data row1 col2\" >C2</td>\n",
       "            </tr>\n",
       "            <tr>\n",
       "                        <th id=\"T_1fe00_level0_row2\" class=\"row_heading level0 row2\" >3</th>\n",
       "                        <td id=\"T_1fe00_row2_col0\" class=\"data row2 col0\" >A3</td>\n",
       "                        <td id=\"T_1fe00_row2_col1\" class=\"data row2 col1\" >B3</td>\n",
       "                        <td id=\"T_1fe00_row2_col2\" class=\"data row2 col2\" >C3</td>\n",
       "            </tr>\n",
       "    </tbody></table>"
      ],
      "text/plain": [
       "<pandas.io.formats.style.Styler at 0x1e0e37cf250>"
      ]
     },
     "metadata": {},
     "output_type": "display_data"
    },
    {
     "name": "stdout",
     "output_type": "stream",
     "text": [
      "*****************\n",
      "Player X\n",
      "Select your square! for example: B2\n",
      "a1\n",
      "*****************\n",
      "Updating Game Board...\n",
      "*****************\n"
     ]
    },
    {
     "data": {
      "text/html": [
       "<style  type=\"text/css\" >\n",
       "#T_fe7b5_row0_col0{\n",
       "            background-color:  black;\n",
       "            color:  white;\n",
       "            border-color:  black;\n",
       "            background-color:  red;\n",
       "        }#T_fe7b5_row0_col1,#T_fe7b5_row0_col2,#T_fe7b5_row1_col0,#T_fe7b5_row1_col1,#T_fe7b5_row1_col2,#T_fe7b5_row2_col0,#T_fe7b5_row2_col1,#T_fe7b5_row2_col2{\n",
       "            background-color:  black;\n",
       "            color:  white;\n",
       "            border-color:  black;\n",
       "        }</style><table id=\"T_fe7b5_\" ><thead>    <tr>        <th class=\"blank level0\" ></th>        <th class=\"col_heading level0 col0\" >A</th>        <th class=\"col_heading level0 col1\" >B</th>        <th class=\"col_heading level0 col2\" >C</th>    </tr></thead><tbody>\n",
       "                <tr>\n",
       "                        <th id=\"T_fe7b5_level0_row0\" class=\"row_heading level0 row0\" >1</th>\n",
       "                        <td id=\"T_fe7b5_row0_col0\" class=\"data row0 col0\" >X</td>\n",
       "                        <td id=\"T_fe7b5_row0_col1\" class=\"data row0 col1\" >B1</td>\n",
       "                        <td id=\"T_fe7b5_row0_col2\" class=\"data row0 col2\" >C1</td>\n",
       "            </tr>\n",
       "            <tr>\n",
       "                        <th id=\"T_fe7b5_level0_row1\" class=\"row_heading level0 row1\" >2</th>\n",
       "                        <td id=\"T_fe7b5_row1_col0\" class=\"data row1 col0\" >A2</td>\n",
       "                        <td id=\"T_fe7b5_row1_col1\" class=\"data row1 col1\" >B2</td>\n",
       "                        <td id=\"T_fe7b5_row1_col2\" class=\"data row1 col2\" >C2</td>\n",
       "            </tr>\n",
       "            <tr>\n",
       "                        <th id=\"T_fe7b5_level0_row2\" class=\"row_heading level0 row2\" >3</th>\n",
       "                        <td id=\"T_fe7b5_row2_col0\" class=\"data row2 col0\" >A3</td>\n",
       "                        <td id=\"T_fe7b5_row2_col1\" class=\"data row2 col1\" >B3</td>\n",
       "                        <td id=\"T_fe7b5_row2_col2\" class=\"data row2 col2\" >C3</td>\n",
       "            </tr>\n",
       "    </tbody></table>"
      ],
      "text/plain": [
       "<pandas.io.formats.style.Styler at 0x1e0e48dcfd0>"
      ]
     },
     "metadata": {},
     "output_type": "display_data"
    },
    {
     "name": "stdout",
     "output_type": "stream",
     "text": [
      "*****************\n",
      "Player O\n",
      "Select your square! for example: B2\n",
      "a2\n",
      "*****************\n",
      "Updating Game Board...\n",
      "*****************\n"
     ]
    },
    {
     "data": {
      "text/html": [
       "<style  type=\"text/css\" >\n",
       "#T_c5e4a_row0_col0{\n",
       "            background-color:  black;\n",
       "            color:  white;\n",
       "            border-color:  black;\n",
       "            background-color:  red;\n",
       "        }#T_c5e4a_row0_col1,#T_c5e4a_row0_col2,#T_c5e4a_row1_col1,#T_c5e4a_row1_col2,#T_c5e4a_row2_col0,#T_c5e4a_row2_col1,#T_c5e4a_row2_col2{\n",
       "            background-color:  black;\n",
       "            color:  white;\n",
       "            border-color:  black;\n",
       "        }#T_c5e4a_row1_col0{\n",
       "            background-color:  black;\n",
       "            color:  white;\n",
       "            border-color:  black;\n",
       "            background-color:  blue;\n",
       "        }</style><table id=\"T_c5e4a_\" ><thead>    <tr>        <th class=\"blank level0\" ></th>        <th class=\"col_heading level0 col0\" >A</th>        <th class=\"col_heading level0 col1\" >B</th>        <th class=\"col_heading level0 col2\" >C</th>    </tr></thead><tbody>\n",
       "                <tr>\n",
       "                        <th id=\"T_c5e4a_level0_row0\" class=\"row_heading level0 row0\" >1</th>\n",
       "                        <td id=\"T_c5e4a_row0_col0\" class=\"data row0 col0\" >X</td>\n",
       "                        <td id=\"T_c5e4a_row0_col1\" class=\"data row0 col1\" >B1</td>\n",
       "                        <td id=\"T_c5e4a_row0_col2\" class=\"data row0 col2\" >C1</td>\n",
       "            </tr>\n",
       "            <tr>\n",
       "                        <th id=\"T_c5e4a_level0_row1\" class=\"row_heading level0 row1\" >2</th>\n",
       "                        <td id=\"T_c5e4a_row1_col0\" class=\"data row1 col0\" >O</td>\n",
       "                        <td id=\"T_c5e4a_row1_col1\" class=\"data row1 col1\" >B2</td>\n",
       "                        <td id=\"T_c5e4a_row1_col2\" class=\"data row1 col2\" >C2</td>\n",
       "            </tr>\n",
       "            <tr>\n",
       "                        <th id=\"T_c5e4a_level0_row2\" class=\"row_heading level0 row2\" >3</th>\n",
       "                        <td id=\"T_c5e4a_row2_col0\" class=\"data row2 col0\" >A3</td>\n",
       "                        <td id=\"T_c5e4a_row2_col1\" class=\"data row2 col1\" >B3</td>\n",
       "                        <td id=\"T_c5e4a_row2_col2\" class=\"data row2 col2\" >C3</td>\n",
       "            </tr>\n",
       "    </tbody></table>"
      ],
      "text/plain": [
       "<pandas.io.formats.style.Styler at 0x1e0e48c2cd0>"
      ]
     },
     "metadata": {},
     "output_type": "display_data"
    },
    {
     "name": "stdout",
     "output_type": "stream",
     "text": [
      "*****************\n",
      "Player X\n",
      "Select your square! for example: B2\n",
      "b2\n",
      "*****************\n",
      "Updating Game Board...\n",
      "*****************\n"
     ]
    },
    {
     "data": {
      "text/html": [
       "<style  type=\"text/css\" >\n",
       "#T_e5476_row0_col0,#T_e5476_row1_col1{\n",
       "            background-color:  black;\n",
       "            color:  white;\n",
       "            border-color:  black;\n",
       "            background-color:  red;\n",
       "        }#T_e5476_row0_col1,#T_e5476_row0_col2,#T_e5476_row1_col2,#T_e5476_row2_col0,#T_e5476_row2_col1,#T_e5476_row2_col2{\n",
       "            background-color:  black;\n",
       "            color:  white;\n",
       "            border-color:  black;\n",
       "        }#T_e5476_row1_col0{\n",
       "            background-color:  black;\n",
       "            color:  white;\n",
       "            border-color:  black;\n",
       "            background-color:  blue;\n",
       "        }</style><table id=\"T_e5476_\" ><thead>    <tr>        <th class=\"blank level0\" ></th>        <th class=\"col_heading level0 col0\" >A</th>        <th class=\"col_heading level0 col1\" >B</th>        <th class=\"col_heading level0 col2\" >C</th>    </tr></thead><tbody>\n",
       "                <tr>\n",
       "                        <th id=\"T_e5476_level0_row0\" class=\"row_heading level0 row0\" >1</th>\n",
       "                        <td id=\"T_e5476_row0_col0\" class=\"data row0 col0\" >X</td>\n",
       "                        <td id=\"T_e5476_row0_col1\" class=\"data row0 col1\" >B1</td>\n",
       "                        <td id=\"T_e5476_row0_col2\" class=\"data row0 col2\" >C1</td>\n",
       "            </tr>\n",
       "            <tr>\n",
       "                        <th id=\"T_e5476_level0_row1\" class=\"row_heading level0 row1\" >2</th>\n",
       "                        <td id=\"T_e5476_row1_col0\" class=\"data row1 col0\" >O</td>\n",
       "                        <td id=\"T_e5476_row1_col1\" class=\"data row1 col1\" >X</td>\n",
       "                        <td id=\"T_e5476_row1_col2\" class=\"data row1 col2\" >C2</td>\n",
       "            </tr>\n",
       "            <tr>\n",
       "                        <th id=\"T_e5476_level0_row2\" class=\"row_heading level0 row2\" >3</th>\n",
       "                        <td id=\"T_e5476_row2_col0\" class=\"data row2 col0\" >A3</td>\n",
       "                        <td id=\"T_e5476_row2_col1\" class=\"data row2 col1\" >B3</td>\n",
       "                        <td id=\"T_e5476_row2_col2\" class=\"data row2 col2\" >C3</td>\n",
       "            </tr>\n",
       "    </tbody></table>"
      ],
      "text/plain": [
       "<pandas.io.formats.style.Styler at 0x1e0e48dd5e0>"
      ]
     },
     "metadata": {},
     "output_type": "display_data"
    },
    {
     "name": "stdout",
     "output_type": "stream",
     "text": [
      "*****************\n",
      "Player O\n",
      "Select your square! for example: B2\n",
      "b3\n",
      "*****************\n",
      "Updating Game Board...\n",
      "*****************\n"
     ]
    },
    {
     "data": {
      "text/html": [
       "<style  type=\"text/css\" >\n",
       "#T_fe5a7_row0_col0,#T_fe5a7_row1_col1{\n",
       "            background-color:  black;\n",
       "            color:  white;\n",
       "            border-color:  black;\n",
       "            background-color:  red;\n",
       "        }#T_fe5a7_row0_col1,#T_fe5a7_row0_col2,#T_fe5a7_row1_col2,#T_fe5a7_row2_col0,#T_fe5a7_row2_col2{\n",
       "            background-color:  black;\n",
       "            color:  white;\n",
       "            border-color:  black;\n",
       "        }#T_fe5a7_row1_col0,#T_fe5a7_row2_col1{\n",
       "            background-color:  black;\n",
       "            color:  white;\n",
       "            border-color:  black;\n",
       "            background-color:  blue;\n",
       "        }</style><table id=\"T_fe5a7_\" ><thead>    <tr>        <th class=\"blank level0\" ></th>        <th class=\"col_heading level0 col0\" >A</th>        <th class=\"col_heading level0 col1\" >B</th>        <th class=\"col_heading level0 col2\" >C</th>    </tr></thead><tbody>\n",
       "                <tr>\n",
       "                        <th id=\"T_fe5a7_level0_row0\" class=\"row_heading level0 row0\" >1</th>\n",
       "                        <td id=\"T_fe5a7_row0_col0\" class=\"data row0 col0\" >X</td>\n",
       "                        <td id=\"T_fe5a7_row0_col1\" class=\"data row0 col1\" >B1</td>\n",
       "                        <td id=\"T_fe5a7_row0_col2\" class=\"data row0 col2\" >C1</td>\n",
       "            </tr>\n",
       "            <tr>\n",
       "                        <th id=\"T_fe5a7_level0_row1\" class=\"row_heading level0 row1\" >2</th>\n",
       "                        <td id=\"T_fe5a7_row1_col0\" class=\"data row1 col0\" >O</td>\n",
       "                        <td id=\"T_fe5a7_row1_col1\" class=\"data row1 col1\" >X</td>\n",
       "                        <td id=\"T_fe5a7_row1_col2\" class=\"data row1 col2\" >C2</td>\n",
       "            </tr>\n",
       "            <tr>\n",
       "                        <th id=\"T_fe5a7_level0_row2\" class=\"row_heading level0 row2\" >3</th>\n",
       "                        <td id=\"T_fe5a7_row2_col0\" class=\"data row2 col0\" >A3</td>\n",
       "                        <td id=\"T_fe5a7_row2_col1\" class=\"data row2 col1\" >O</td>\n",
       "                        <td id=\"T_fe5a7_row2_col2\" class=\"data row2 col2\" >C3</td>\n",
       "            </tr>\n",
       "    </tbody></table>"
      ],
      "text/plain": [
       "<pandas.io.formats.style.Styler at 0x1e0e495d040>"
      ]
     },
     "metadata": {},
     "output_type": "display_data"
    },
    {
     "name": "stdout",
     "output_type": "stream",
     "text": [
      "*****************\n",
      "Player X\n",
      "Select your square! for example: B2\n",
      "c3\n",
      "*****************\n",
      "Updating Game Board...\n",
      "*****************\n"
     ]
    },
    {
     "data": {
      "text/html": [
       "<style  type=\"text/css\" >\n",
       "#T_3e862_row0_col0,#T_3e862_row1_col1,#T_3e862_row2_col2{\n",
       "            background-color:  black;\n",
       "            color:  white;\n",
       "            border-color:  black;\n",
       "            background-color:  red;\n",
       "        }#T_3e862_row0_col1,#T_3e862_row0_col2,#T_3e862_row1_col2,#T_3e862_row2_col0{\n",
       "            background-color:  black;\n",
       "            color:  white;\n",
       "            border-color:  black;\n",
       "        }#T_3e862_row1_col0,#T_3e862_row2_col1{\n",
       "            background-color:  black;\n",
       "            color:  white;\n",
       "            border-color:  black;\n",
       "            background-color:  blue;\n",
       "        }</style><table id=\"T_3e862_\" ><thead>    <tr>        <th class=\"blank level0\" ></th>        <th class=\"col_heading level0 col0\" >A</th>        <th class=\"col_heading level0 col1\" >B</th>        <th class=\"col_heading level0 col2\" >C</th>    </tr></thead><tbody>\n",
       "                <tr>\n",
       "                        <th id=\"T_3e862_level0_row0\" class=\"row_heading level0 row0\" >1</th>\n",
       "                        <td id=\"T_3e862_row0_col0\" class=\"data row0 col0\" >X</td>\n",
       "                        <td id=\"T_3e862_row0_col1\" class=\"data row0 col1\" >B1</td>\n",
       "                        <td id=\"T_3e862_row0_col2\" class=\"data row0 col2\" >C1</td>\n",
       "            </tr>\n",
       "            <tr>\n",
       "                        <th id=\"T_3e862_level0_row1\" class=\"row_heading level0 row1\" >2</th>\n",
       "                        <td id=\"T_3e862_row1_col0\" class=\"data row1 col0\" >O</td>\n",
       "                        <td id=\"T_3e862_row1_col1\" class=\"data row1 col1\" >X</td>\n",
       "                        <td id=\"T_3e862_row1_col2\" class=\"data row1 col2\" >C2</td>\n",
       "            </tr>\n",
       "            <tr>\n",
       "                        <th id=\"T_3e862_level0_row2\" class=\"row_heading level0 row2\" >3</th>\n",
       "                        <td id=\"T_3e862_row2_col0\" class=\"data row2 col0\" >A3</td>\n",
       "                        <td id=\"T_3e862_row2_col1\" class=\"data row2 col1\" >O</td>\n",
       "                        <td id=\"T_3e862_row2_col2\" class=\"data row2 col2\" >X</td>\n",
       "            </tr>\n",
       "    </tbody></table>"
      ],
      "text/plain": [
       "<pandas.io.formats.style.Styler at 0x1e0e495d8b0>"
      ]
     },
     "metadata": {},
     "output_type": "display_data"
    },
    {
     "name": "stdout",
     "output_type": "stream",
     "text": [
      "*****************\n",
      "\u001b[1mPlayer X Wins - GAME OVER!\n"
     ]
    }
   ],
   "source": [
    "#Initial Parameters\n",
    "players = ['X', 'O']\n",
    "game_over = False\n",
    "move_num = 1\n",
    "\n",
    "#Displaying initial game board\n",
    "display(style(board))\n",
    "\n",
    "#Starting the game\n",
    "while move_num < 10 and game_over == False:\n",
    "    for p in players:\n",
    "        separator()\n",
    "        move = input('Player ' + p +'\\nSelect your square! for example: B2\\n')\n",
    "        move, game_over = check_valid(move, game_over)\n",
    "        if game_over == True or move == False or move == 'exit':\n",
    "            print('\\033[1m' + 'Game Over - Player {} Gave up'.format(p))\n",
    "            move_num = 10\n",
    "            break\n",
    "        if move != False:\n",
    "            move = update_board(move)\n",
    "            game_over = horizontal(game_over)\n",
    "            game_over = vertical(game_over)\n",
    "            game_over = diagonal(game_over)\n",
    "            if game_over == True:\n",
    "                separator()\n",
    "                print('\\033[1m' + 'Player ' + p + ' Wins - GAME OVER!')\n",
    "                move_num = 10\n",
    "                break\n",
    "            elif game_over == False and move_num >= 9:\n",
    "                separator()\n",
    "                print('\\033[1m' + 'Nobody Wins! - GAME OVER')\n",
    "        else:\n",
    "            move_num = 10\n",
    "            break\n",
    "        move_num += 1\n",
    "\n"
   ]
  },
  {
   "cell_type": "code",
   "execution_count": 6,
   "id": "d2ec964b",
   "metadata": {
    "collapsed": true
   },
   "outputs": [
    {
     "data": {
      "text/plain": [
       "\"\\nwill try to implement it using the numpad keys instead of {A1,A2,etc}\\n\\nkeys = {7: 'A1', 4: 'A2', 1: 'A3', 8: 'B1', 5: 'B2', 2: 'C2', 9: 'C1', 3: 'C3'}\\n\\n#Initial Parameters\\nplayers = ['X', 'O']\\ngame_over = False\\nmove_num = 1\\n\\n#Displaying initial game board\\ndisplay(style(board))\\n\\n#Starting the game\\nwhile move_num < 10 and game_over == False:\\n    for p in players:\\n        separator()\\n        move = input('Player ' + p +'\\nSelect your square! for example: B2\\n')\\n        move, game_over = check_valid(move, game_over)\\n        if game_over == True or move == False or move == 'exit':\\n            print('\\x1b[1m' + 'Game Over - Player {} Gave up'.format(p))\\n            move_num = 10\\n            break\\n        if move != False:           \\n            move = update_board(move)\\n            game_over = horizontal(game_over)\\n            game_over = vertical(game_over)\\n            game_over = diagonal(game_over)\\n            if game_over == True:\\n                separator()\\n                print('\\x1b[1m' + 'Player ' + p + ' Wins - GAME OVER!')\\n                move_num = 10\\n                break\\n            elif game_over == False and move_num >= 9:\\n                separator()\\n                print('\\x1b[1m' + 'Nobody Wins! - GAME OVER')\\n        else:\\n            move_num = 10\\n            break\\n        move_num += 1\\n\\n\""
      ]
     },
     "execution_count": 6,
     "metadata": {},
     "output_type": "execute_result"
    }
   ],
   "source": [
    "\"\"\"\n",
    "will try to implement it using the numpad keys instead of {A1,A2,etc}\n",
    "\n",
    "keys = {7: 'A1', 4: 'A2', 1: 'A3', 8: 'B1', 5: 'B2', 2: 'C2', 9: 'C1', 3: 'C3'}\n",
    "\n",
    "#Initial Parameters\n",
    "players = ['X', 'O']\n",
    "game_over = False\n",
    "move_num = 1\n",
    "\n",
    "#Displaying initial game board\n",
    "display(style(board))\n",
    "\n",
    "#Starting the game\n",
    "while move_num < 10 and game_over == False:\n",
    "    for p in players:\n",
    "        separator()\n",
    "        move = input('Player ' + p +'\\nSelect your square! for example: B2\\n')\n",
    "        move, game_over = check_valid(move, game_over)\n",
    "        if game_over == True or move == False or move == 'exit':\n",
    "            print('\\033[1m' + 'Game Over - Player {} Gave up'.format(p))\n",
    "            move_num = 10\n",
    "            break\n",
    "        if move != False:           \n",
    "            move = update_board(move)\n",
    "            game_over = horizontal(game_over)\n",
    "            game_over = vertical(game_over)\n",
    "            game_over = diagonal(game_over)\n",
    "            if game_over == True:\n",
    "                separator()\n",
    "                print('\\033[1m' + 'Player ' + p + ' Wins - GAME OVER!')\n",
    "                move_num = 10\n",
    "                break\n",
    "            elif game_over == False and move_num >= 9:\n",
    "                separator()\n",
    "                print('\\033[1m' + 'Nobody Wins! - GAME OVER')\n",
    "        else:\n",
    "            move_num = 10\n",
    "            break\n",
    "        move_num += 1\n",
    "\n",
    "\"\"\""
   ]
  },
  {
   "cell_type": "code",
   "execution_count": null,
   "id": "af5ae3d4",
   "metadata": {},
   "outputs": [],
   "source": []
  }
 ],
 "metadata": {
  "kernelspec": {
   "display_name": "Python 3",
   "language": "python",
   "name": "python3"
  },
  "language_info": {
   "codemirror_mode": {
    "name": "ipython",
    "version": 3
   },
   "file_extension": ".py",
   "mimetype": "text/x-python",
   "name": "python",
   "nbconvert_exporter": "python",
   "pygments_lexer": "ipython3",
   "version": "3.8.8"
  }
 },
 "nbformat": 4,
 "nbformat_minor": 5
}
